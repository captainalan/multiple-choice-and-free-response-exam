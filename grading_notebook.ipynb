{
 "cells": [
  {
   "cell_type": "markdown",
   "metadata": {},
   "source": [
    "# Example Exam Grade Calculations\n",
    "\n",
    "Here, I calculate scores from a JSON file storing student responses to exam questions. See `key_and_grades.json`.\n",
    "\n",
    "## Reading in the data and calculating raw score"
   ]
  },
  {
   "cell_type": "code",
   "execution_count": 3,
   "metadata": {},
   "outputs": [
    {
     "name": "stdout",
     "output_type": "stream",
     "text": [
      "Washington, George---------- 17 (56.67%)\n",
      "Musk, Elon------------------ 29 (96.67%)\n",
      "Rand, Ayn------------------- 26 (86.67%)\n",
      "Polo, Marco----------------- 28 (93.33%)\n",
      "Clinton, Hilary------------- 23 (76.67%)\n",
      "Freud, Sigmund-------------- 25 (83.33%)\n",
      "Obama, Barack--------------- 21 (70.00%)\n",
      "Jones, Alex----------------- 25 (83.33%)\n",
      "Uzumaki, Naruto------------- 22 (73.33%)\n",
      "Skywalker, Luke------------- 19 (63.33%)\n",
      "Murakami, Haruki------------ 23 (76.67%)\n",
      "Mao, Zedong----------------- 28 (93.33%)\n",
      "Bush, George---------------- 25 (83.33%)\n",
      "Einstein, Albert------------ 29 (96.67%)\n",
      "Orwell, George-------------- 28 (93.33%)\n",
      "Tolstoy, Leo---------------- 15 (50.00%)\n",
      "Zuckerberg, Mark------------ 28 (93.33%)\n",
      "Kahlo, Frida---------------- 25 (83.33%)\n",
      "West, Kanye----------------- 26 (86.67%)\n",
      "von Mises, Ludwig----------- 18 (60.00%)\n"
     ]
    }
   ],
   "source": [
    "import json\n",
    "\n",
    "# Store student scores for some data crunching later\n",
    "names = []\n",
    "mult_choice = []\n",
    "free_response = []\n",
    "\n",
    "# Total points that raw scores for parts 1 & 2 are out of\n",
    "total_pts_mult_choice = 30.0\n",
    "total_pts_free_response = 20.0\n",
    "\n",
    "# Which questions were hard?\n",
    "missed_questions = {}\n",
    "\n",
    "with open('key_and_grades.json', 'r') as f:\n",
    "    scores = json.load(f)\n",
    "    answer_key = scores['key']\n",
    "    students = scores['students']\n",
    "    \n",
    "    for student in students:\n",
    "        part1 = 0\n",
    "        part2 = 0\n",
    "        for key in student:\n",
    "            if (key.find('q') != -1):\n",
    "                if bool(student[key]) and (student[key] in (answer_key[0][key])):\n",
    "                    part1 = part1 + 1\n",
    "                else:\n",
    "                    if key in missed_questions:\n",
    "                        missed_questions[key] = missed_questions[key] + 1\n",
    "                    else:\n",
    "                        missed_questions[key] = 1\n",
    "            elif (key.find('choice') != -1):\n",
    "                    part2 = part2 + float(student[key])\n",
    "                \n",
    "        name = \"{}, {}\".format(student['lastName'], student['firstName'])\n",
    "        print(\"{:-<28} {} ({:.2f}%)\".format(name, part1, part1/total_pts_mult_choice*100.0))\n",
    "        \n",
    "        names.append(name)\n",
    "        mult_choice.append(part1)\n",
    "        free_response.append(part2)"
   ]
  },
  {
   "cell_type": "code",
   "execution_count": 4,
   "metadata": {},
   "outputs": [
    {
     "name": "stdout",
     "output_type": "stream",
     "text": [
      "{'q04': 2, 'q05': 6, 'q06': 5, 'q07': 3, 'q08': 3, 'q09': 4, 'q12': 6, 'q15': 5, 'q18': 7, 'q24': 11, 'q25': 8, 'q26': 1, 'q29': 8, 'q23': 14, 'q27': 6, 'q14': 9, 'q03': 3, 'q11': 2, 'q13': 2, 'q01': 4, 'q20': 1, 'q21': 5, 'q02': 1, 'q10': 1, 'q16': 1, 'q17': 1, 'q19': 1}\n"
     ]
    }
   ],
   "source": [
    "# Frequently missed questions\n",
    "print(missed_questions)"
   ]
  },
  {
   "cell_type": "markdown",
   "metadata": {},
   "source": [
    "## Multiple choice\n",
    "\n",
    "A total of 30 questions here. Some questions have more than one possible correct answer."
   ]
  },
  {
   "cell_type": "code",
   "execution_count": 5,
   "metadata": {},
   "outputs": [
    {
     "name": "stdout",
     "output_type": "stream",
     "text": [
      "Mean: 24.00 (80.00%)\n",
      "Median: 25.00 (83.33%)\n",
      "Std. Dev: 4.07\n"
     ]
    }
   ],
   "source": [
    "import numpy as np\n",
    "mc_scores = np.asarray(mult_choice)\n",
    "mc_mean = np.average(mc_scores)\n",
    "mc_median = np.median(mc_scores)\n",
    "mc_std = np.std(mc_scores)\n",
    "print(\"Mean: {:.2f} ({:.2f}%)\\nMedian: {:.2f} ({:.2f}%)\\nStd. Dev: {:.2f}\".format(mc_mean, \\\n",
    "    mc_mean/total_pts_mult_choice*100.0, mc_median, \\\n",
    "    mc_median/total_pts_mult_choice*100.0, mc_std))"
   ]
  },
  {
   "cell_type": "markdown",
   "metadata": {},
   "source": [
    "## Free response\n",
    "\n",
    "Exams may include a more subjectively graded free response section.\n"
   ]
  },
  {
   "cell_type": "code",
   "execution_count": 6,
   "metadata": {},
   "outputs": [
    {
     "name": "stdout",
     "output_type": "stream",
     "text": [
      "Mean: 18.71 (93.55%)\n",
      "Median: 19.83 (99.13%)\n",
      "Std. Dev: 2.15\n"
     ]
    }
   ],
   "source": [
    "fr_scores = np.asarray(free_response)\n",
    "fr_mean = np.average(fr_scores)\n",
    "fr_median = np.median(fr_scores)\n",
    "fr_std = np.std(fr_scores)\n",
    "print(\"Mean: {:.2f} ({:.2f}%)\\nMedian: {:.2f} ({:.2f}%)\\nStd. Dev: {:.2f}\".format(fr_mean, \n",
    "    fr_mean/total_pts_free_response*100.0, \\\n",
    "    fr_median, fr_median/total_pts_free_response*100.0, fr_std))"
   ]
  },
  {
   "cell_type": "markdown",
   "metadata": {},
   "source": [
    "## Combined scores, first try\n",
    "\n",
    "Weight the portion scored higher on as 70%, lower part as 30%"
   ]
  },
  {
   "cell_type": "code",
   "execution_count": 7,
   "metadata": {},
   "outputs": [
    {
     "name": "stdout",
     "output_type": "stream",
     "text": [
      "Washington, George----------: 59.9%\n",
      "Musk, Elon------------------: 97.7%\n",
      "Rand, Ayn-------------------: 90.7%\n",
      "Polo, Marco-----------------: 95.3%\n",
      "Clinton, Hilary-------------: 76.6%\n",
      "Freud, Sigmund--------------: 87.6%\n",
      "Obama, Barack---------------: 78.0%\n",
      "Jones, Alex-----------------: 88.3%\n",
      "Uzumaki, Naruto-------------: 81.3%\n",
      "Skywalker, Luke-------------: 68.6%\n",
      "Murakami, Haruki------------: 83.5%\n",
      "Mao, Zedong-----------------: 95.3%\n",
      "Bush, George----------------: 88.1%\n",
      "Einstein, Albert------------: 97.7%\n",
      "Orwell, George--------------: 95.3%\n",
      "Tolstoy, Leo----------------: 81.5%\n",
      "Zuckerberg, Mark------------: 94.6%\n",
      "Kahlo, Frida----------------: 88.0%\n",
      "West, Kanye-----------------: 89.2%\n",
      "von Mises, Ludwig-----------: 62.1%\n"
     ]
    }
   ],
   "source": [
    "original_weighted = []\n",
    "\n",
    "for i in range(0,len(names)):\n",
    "    higher_part = 0\n",
    "    lower_part = 0\n",
    "    if mult_choice[i] >= free_response[i]:\n",
    "        higher_part = mult_choice[i] / total_pts_mult_choice\n",
    "        lower_part = free_response[i] / total_pts_free_response\n",
    "    else:\n",
    "        higher_part = free_response[i] / total_pts_free_response\n",
    "        lower_part = mult_choice[i] / total_pts_mult_choice\n",
    "        \n",
    "    total = (higher_part * 0.7) + (lower_part * 0.3)\n",
    "    original_weighted.append(total)\n",
    "    \n",
    "    print(\"{:-<28}: {:.1f}%\".format(names[i], total*100.0))"
   ]
  },
  {
   "cell_type": "markdown",
   "metadata": {},
   "source": [
    "## Adjustments\n",
    "\n",
    "Here I give 20% of the exam \"free\". This is an easy way to adjust exam grades if students happen to score too low for a university's liking..."
   ]
  },
  {
   "cell_type": "code",
   "execution_count": 8,
   "metadata": {},
   "outputs": [
    {
     "name": "stdout",
     "output_type": "stream",
     "text": [
      "Washington, George----------: 67.9%\n",
      "Musk, Elon------------------: 98.1%\n",
      "Rand, Ayn-------------------: 92.5%\n",
      "Polo, Marco-----------------: 96.3%\n",
      "Clinton, Hilary-------------: 81.3%\n",
      "Freud, Sigmund--------------: 90.1%\n",
      "Obama, Barack---------------: 82.4%\n",
      "Jones, Alex-----------------: 90.7%\n",
      "Uzumaki, Naruto-------------: 85.0%\n",
      "Skywalker, Luke-------------: 74.9%\n",
      "Murakami, Haruki------------: 86.8%\n",
      "Mao, Zedong-----------------: 96.3%\n",
      "Bush, George----------------: 90.5%\n",
      "Einstein, Albert------------: 98.1%\n",
      "Orwell, George--------------: 96.3%\n",
      "Tolstoy, Leo----------------: 85.2%\n",
      "Zuckerberg, Mark------------: 95.7%\n",
      "Kahlo, Frida----------------: 90.4%\n",
      "West, Kanye-----------------: 91.3%\n",
      "von Mises, Ludwig-----------: 69.7%\n"
     ]
    }
   ],
   "source": [
    "# Calculate scores\n",
    "WEIGHT_FREE = 0.2 # What proportion of points are given for \"free\"\n",
    "new_weighted = []\n",
    "\n",
    "for i in range(0,len(names)):\n",
    "    reweighted = WEIGHT_FREE + (1.0 - WEIGHT_FREE)*original_weighted[i]\n",
    "    new_weighted.append(reweighted)\n",
    "    print(\"{:-<28}: {:.1f}%\".format(names[i], reweighted*100.0))\n"
   ]
  },
  {
   "cell_type": "code",
   "execution_count": 9,
   "metadata": {},
   "outputs": [
    {
     "name": "stdout",
     "output_type": "stream",
     "text": [
      "Mean: 87.97\n",
      "Median: 90.46\n",
      "Std. Dev: 8.74\n"
     ]
    }
   ],
   "source": [
    "final_scores = np.asarray(new_weighted)\n",
    "final_mean = np.average(final_scores)\n",
    "final_median = np.median(final_scores)\n",
    "final_std = np.std(final_scores)\n",
    "print(\"Mean: {:.2f}\\nMedian: {:.2f}\\nStd. Dev: {:.2f}\".format(final_mean*100, \\\n",
    "    final_median*100, final_std*100))"
   ]
  },
  {
   "cell_type": "code",
   "execution_count": null,
   "metadata": {},
   "outputs": [],
   "source": []
  }
 ],
 "metadata": {
  "kernelspec": {
   "display_name": "Python 3",
   "language": "python",
   "name": "python3"
  },
  "language_info": {
   "codemirror_mode": {
    "name": "ipython",
    "version": 3
   },
   "file_extension": ".py",
   "mimetype": "text/x-python",
   "name": "python",
   "nbconvert_exporter": "python",
   "pygments_lexer": "ipython3",
   "version": "3.6.4"
  }
 },
 "nbformat": 4,
 "nbformat_minor": 2
}
